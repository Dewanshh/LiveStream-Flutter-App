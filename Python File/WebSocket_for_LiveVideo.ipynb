{
 "cells": [
  {
   "cell_type": "code",
   "execution_count": 13,
   "id": "521c7eec",
   "metadata": {},
   "outputs": [],
   "source": [
    "import nest_asyncio\n",
    "nest_asyncio.apply()"
   ]
  },
  {
   "cell_type": "code",
   "execution_count": 14,
   "id": "78169499",
   "metadata": {},
   "outputs": [
    {
     "name": "stdout",
     "output_type": "stream",
     "text": [
      "Started server on port :  1000\n",
      "Client Connected !\n"
     ]
    },
    {
     "name": "stderr",
     "output_type": "stream",
     "text": [
      "connection handler failed\n",
      "Traceback (most recent call last):\n",
      "  File \"/var/folders/g4/nd6ntk0n3hz78_qxs8hcww3r0000gn/T/ipykernel_56957/3367997772.py\", line 22, in transmit\n",
      "    await websocket.send(data)\n",
      "  File \"/Library/Frameworks/Python.framework/Versions/3.10/lib/python3.10/site-packages/websockets/legacy/protocol.py\", line 647, in send\n",
      "    await self.write_frame(True, opcode, data)\n",
      "  File \"/Library/Frameworks/Python.framework/Versions/3.10/lib/python3.10/site-packages/websockets/legacy/protocol.py\", line 1205, in write_frame\n",
      "    await self.drain()\n",
      "  File \"/Library/Frameworks/Python.framework/Versions/3.10/lib/python3.10/site-packages/websockets/legacy/protocol.py\", line 1194, in drain\n",
      "    await self.ensure_open()\n",
      "  File \"/Library/Frameworks/Python.framework/Versions/3.10/lib/python3.10/site-packages/websockets/legacy/protocol.py\", line 935, in ensure_open\n",
      "    raise self.connection_closed_exc()\n",
      "websockets.exceptions.ConnectionClosedError: no close frame received or sent\n",
      "\n",
      "During handling of the above exception, another exception occurred:\n",
      "\n",
      "Traceback (most recent call last):\n",
      "  File \"/Library/Frameworks/Python.framework/Versions/3.10/lib/python3.10/site-packages/websockets/legacy/server.py\", line 240, in handler\n",
      "    await self.ws_handler(self)\n",
      "  File \"/Library/Frameworks/Python.framework/Versions/3.10/lib/python3.10/site-packages/websockets/legacy/server.py\", line 1186, in _ws_handler\n",
      "    return await cast(\n",
      "  File \"/var/folders/g4/nd6ntk0n3hz78_qxs8hcww3r0000gn/T/ipykernel_56957/3367997772.py\", line 29, in transmit\n",
      "    except websockets.connection.ConnectionClosed as e:\n",
      "  File \"/Library/Frameworks/Python.framework/Versions/3.10/lib/python3.10/site-packages/websockets/imports.py\", line 92, in __getattr__\n",
      "    raise AttributeError(f\"module {package!r} has no attribute {name!r}\")\n",
      "AttributeError: module 'websockets' has no attribute 'connection'\n"
     ]
    },
    {
     "name": "stdout",
     "output_type": "stream",
     "text": [
      "Client Connected !\n"
     ]
    },
    {
     "name": "stderr",
     "output_type": "stream",
     "text": [
      "connection handler failed\n",
      "Traceback (most recent call last):\n",
      "  File \"/var/folders/g4/nd6ntk0n3hz78_qxs8hcww3r0000gn/T/ipykernel_56957/3367997772.py\", line 22, in transmit\n",
      "    await websocket.send(data)\n",
      "  File \"/Library/Frameworks/Python.framework/Versions/3.10/lib/python3.10/site-packages/websockets/legacy/protocol.py\", line 647, in send\n",
      "    await self.write_frame(True, opcode, data)\n",
      "  File \"/Library/Frameworks/Python.framework/Versions/3.10/lib/python3.10/site-packages/websockets/legacy/protocol.py\", line 1205, in write_frame\n",
      "    await self.drain()\n",
      "  File \"/Library/Frameworks/Python.framework/Versions/3.10/lib/python3.10/site-packages/websockets/legacy/protocol.py\", line 1194, in drain\n",
      "    await self.ensure_open()\n",
      "  File \"/Library/Frameworks/Python.framework/Versions/3.10/lib/python3.10/site-packages/websockets/legacy/protocol.py\", line 935, in ensure_open\n",
      "    raise self.connection_closed_exc()\n",
      "websockets.exceptions.ConnectionClosedError: no close frame received or sent\n",
      "\n",
      "During handling of the above exception, another exception occurred:\n",
      "\n",
      "Traceback (most recent call last):\n",
      "  File \"/Library/Frameworks/Python.framework/Versions/3.10/lib/python3.10/site-packages/websockets/legacy/server.py\", line 240, in handler\n",
      "    await self.ws_handler(self)\n",
      "  File \"/Library/Frameworks/Python.framework/Versions/3.10/lib/python3.10/site-packages/websockets/legacy/server.py\", line 1186, in _ws_handler\n",
      "    return await cast(\n",
      "  File \"/var/folders/g4/nd6ntk0n3hz78_qxs8hcww3r0000gn/T/ipykernel_56957/3367997772.py\", line 29, in transmit\n",
      "    except websockets.connection.ConnectionClosed as e:\n",
      "  File \"/Library/Frameworks/Python.framework/Versions/3.10/lib/python3.10/site-packages/websockets/imports.py\", line 92, in __getattr__\n",
      "    raise AttributeError(f\"module {package!r} has no attribute {name!r}\")\n",
      "AttributeError: module 'websockets' has no attribute 'connection'\n"
     ]
    },
    {
     "name": "stdout",
     "output_type": "stream",
     "text": [
      "Client Connected !\n"
     ]
    },
    {
     "name": "stderr",
     "output_type": "stream",
     "text": [
      "connection handler failed\n",
      "Traceback (most recent call last):\n",
      "  File \"/var/folders/g4/nd6ntk0n3hz78_qxs8hcww3r0000gn/T/ipykernel_56957/3367997772.py\", line 22, in transmit\n",
      "    await websocket.send(data)\n",
      "  File \"/Library/Frameworks/Python.framework/Versions/3.10/lib/python3.10/site-packages/websockets/legacy/protocol.py\", line 647, in send\n",
      "    await self.write_frame(True, opcode, data)\n",
      "  File \"/Library/Frameworks/Python.framework/Versions/3.10/lib/python3.10/site-packages/websockets/legacy/protocol.py\", line 1205, in write_frame\n",
      "    await self.drain()\n",
      "  File \"/Library/Frameworks/Python.framework/Versions/3.10/lib/python3.10/site-packages/websockets/legacy/protocol.py\", line 1194, in drain\n",
      "    await self.ensure_open()\n",
      "  File \"/Library/Frameworks/Python.framework/Versions/3.10/lib/python3.10/site-packages/websockets/legacy/protocol.py\", line 935, in ensure_open\n",
      "    raise self.connection_closed_exc()\n",
      "websockets.exceptions.ConnectionClosedError: no close frame received or sent\n",
      "\n",
      "During handling of the above exception, another exception occurred:\n",
      "\n",
      "Traceback (most recent call last):\n",
      "  File \"/Library/Frameworks/Python.framework/Versions/3.10/lib/python3.10/site-packages/websockets/legacy/server.py\", line 240, in handler\n",
      "    await self.ws_handler(self)\n",
      "  File \"/Library/Frameworks/Python.framework/Versions/3.10/lib/python3.10/site-packages/websockets/legacy/server.py\", line 1186, in _ws_handler\n",
      "    return await cast(\n",
      "  File \"/var/folders/g4/nd6ntk0n3hz78_qxs8hcww3r0000gn/T/ipykernel_56957/3367997772.py\", line 29, in transmit\n",
      "    except websockets.connection.ConnectionClosed as e:\n",
      "  File \"/Library/Frameworks/Python.framework/Versions/3.10/lib/python3.10/site-packages/websockets/imports.py\", line 92, in __getattr__\n",
      "    raise AttributeError(f\"module {package!r} has no attribute {name!r}\")\n",
      "AttributeError: module 'websockets' has no attribute 'connection'\n"
     ]
    },
    {
     "name": "stdout",
     "output_type": "stream",
     "text": [
      "Client Connected !\n"
     ]
    },
    {
     "name": "stderr",
     "output_type": "stream",
     "text": [
      "connection handler failed\n",
      "Traceback (most recent call last):\n",
      "  File \"/var/folders/g4/nd6ntk0n3hz78_qxs8hcww3r0000gn/T/ipykernel_56957/3367997772.py\", line 22, in transmit\n",
      "    await websocket.send(data)\n",
      "  File \"/Library/Frameworks/Python.framework/Versions/3.10/lib/python3.10/site-packages/websockets/legacy/protocol.py\", line 647, in send\n",
      "    await self.write_frame(True, opcode, data)\n",
      "  File \"/Library/Frameworks/Python.framework/Versions/3.10/lib/python3.10/site-packages/websockets/legacy/protocol.py\", line 1205, in write_frame\n",
      "    await self.drain()\n",
      "  File \"/Library/Frameworks/Python.framework/Versions/3.10/lib/python3.10/site-packages/websockets/legacy/protocol.py\", line 1194, in drain\n",
      "    await self.ensure_open()\n",
      "  File \"/Library/Frameworks/Python.framework/Versions/3.10/lib/python3.10/site-packages/websockets/legacy/protocol.py\", line 935, in ensure_open\n",
      "    raise self.connection_closed_exc()\n",
      "websockets.exceptions.ConnectionClosedError: no close frame received or sent\n",
      "\n",
      "During handling of the above exception, another exception occurred:\n",
      "\n",
      "Traceback (most recent call last):\n",
      "  File \"/Library/Frameworks/Python.framework/Versions/3.10/lib/python3.10/site-packages/websockets/legacy/server.py\", line 240, in handler\n",
      "    await self.ws_handler(self)\n",
      "  File \"/Library/Frameworks/Python.framework/Versions/3.10/lib/python3.10/site-packages/websockets/legacy/server.py\", line 1186, in _ws_handler\n",
      "    return await cast(\n",
      "  File \"/var/folders/g4/nd6ntk0n3hz78_qxs8hcww3r0000gn/T/ipykernel_56957/3367997772.py\", line 29, in transmit\n",
      "    except websockets.connection.ConnectionClosed as e:\n",
      "  File \"/Library/Frameworks/Python.framework/Versions/3.10/lib/python3.10/site-packages/websockets/imports.py\", line 92, in __getattr__\n",
      "    raise AttributeError(f\"module {package!r} has no attribute {name!r}\")\n",
      "AttributeError: module 'websockets' has no attribute 'connection'\n"
     ]
    },
    {
     "name": "stdout",
     "output_type": "stream",
     "text": [
      "Client Connected !\n"
     ]
    },
    {
     "name": "stderr",
     "output_type": "stream",
     "text": [
      "connection handler failed\n",
      "Traceback (most recent call last):\n",
      "  File \"/var/folders/g4/nd6ntk0n3hz78_qxs8hcww3r0000gn/T/ipykernel_56957/3367997772.py\", line 15, in transmit\n",
      "    _, frame = cap.read()\n",
      "KeyboardInterrupt\n",
      "\n",
      "During handling of the above exception, another exception occurred:\n",
      "\n",
      "Traceback (most recent call last):\n",
      "  File \"/Library/Frameworks/Python.framework/Versions/3.10/lib/python3.10/site-packages/websockets/legacy/server.py\", line 240, in handler\n",
      "    await self.ws_handler(self)\n",
      "  File \"/Library/Frameworks/Python.framework/Versions/3.10/lib/python3.10/site-packages/websockets/legacy/server.py\", line 1186, in _ws_handler\n",
      "    return await cast(\n",
      "  File \"/var/folders/g4/nd6ntk0n3hz78_qxs8hcww3r0000gn/T/ipykernel_56957/3367997772.py\", line 29, in transmit\n",
      "    except websockets.connection.ConnectionClosed as e:\n",
      "  File \"/Library/Frameworks/Python.framework/Versions/3.10/lib/python3.10/site-packages/websockets/imports.py\", line 92, in __getattr__\n",
      "    raise AttributeError(f\"module {package!r} has no attribute {name!r}\")\n",
      "AttributeError: module 'websockets' has no attribute 'connection'\n"
     ]
    },
    {
     "ename": "KeyboardInterrupt",
     "evalue": "",
     "output_type": "error",
     "traceback": [
      "\u001b[0;31m---------------------------------------------------------------------------\u001b[0m",
      "\u001b[0;31mKeyboardInterrupt\u001b[0m                         Traceback (most recent call last)",
      "Input \u001b[0;32mIn [14]\u001b[0m, in \u001b[0;36m<module>\u001b[0;34m\u001b[0m\n\u001b[1;32m     35\u001b[0m start_server \u001b[38;5;241m=\u001b[39m websockets\u001b[38;5;241m.\u001b[39mserve(transmit, port\u001b[38;5;241m=\u001b[39mport)\n\u001b[1;32m     37\u001b[0m asyncio\u001b[38;5;241m.\u001b[39mget_event_loop()\u001b[38;5;241m.\u001b[39mrun_until_complete(start_server)\n\u001b[0;32m---> 38\u001b[0m \u001b[43masyncio\u001b[49m\u001b[38;5;241;43m.\u001b[39;49m\u001b[43mget_event_loop\u001b[49m\u001b[43m(\u001b[49m\u001b[43m)\u001b[49m\u001b[38;5;241;43m.\u001b[39;49m\u001b[43mrun_forever\u001b[49m\u001b[43m(\u001b[49m\u001b[43m)\u001b[49m\n\u001b[1;32m     40\u001b[0m cap\u001b[38;5;241m.\u001b[39mrelease()\n",
      "File \u001b[0;32m/Library/Frameworks/Python.framework/Versions/3.10/lib/python3.10/site-packages/nest_asyncio.py:64\u001b[0m, in \u001b[0;36m_patch_loop.<locals>.run_forever\u001b[0;34m(self)\u001b[0m\n\u001b[1;32m     62\u001b[0m \u001b[38;5;28;01mwith\u001b[39;00m manage_run(\u001b[38;5;28mself\u001b[39m), manage_asyncgens(\u001b[38;5;28mself\u001b[39m):\n\u001b[1;32m     63\u001b[0m     \u001b[38;5;28;01mwhile\u001b[39;00m \u001b[38;5;28;01mTrue\u001b[39;00m:\n\u001b[0;32m---> 64\u001b[0m         \u001b[38;5;28;43mself\u001b[39;49m\u001b[38;5;241;43m.\u001b[39;49m\u001b[43m_run_once\u001b[49m\u001b[43m(\u001b[49m\u001b[43m)\u001b[49m\n\u001b[1;32m     65\u001b[0m         \u001b[38;5;28;01mif\u001b[39;00m \u001b[38;5;28mself\u001b[39m\u001b[38;5;241m.\u001b[39m_stopping:\n\u001b[1;32m     66\u001b[0m             \u001b[38;5;28;01mbreak\u001b[39;00m\n",
      "File \u001b[0;32m/Library/Frameworks/Python.framework/Versions/3.10/lib/python3.10/site-packages/nest_asyncio.py:98\u001b[0m, in \u001b[0;36m_patch_loop.<locals>._run_once\u001b[0;34m(self)\u001b[0m\n\u001b[1;32m     91\u001b[0m     heappop(scheduled)\n\u001b[1;32m     93\u001b[0m timeout \u001b[38;5;241m=\u001b[39m (\n\u001b[1;32m     94\u001b[0m     \u001b[38;5;241m0\u001b[39m \u001b[38;5;28;01mif\u001b[39;00m ready \u001b[38;5;129;01mor\u001b[39;00m \u001b[38;5;28mself\u001b[39m\u001b[38;5;241m.\u001b[39m_stopping\n\u001b[1;32m     95\u001b[0m     \u001b[38;5;28;01melse\u001b[39;00m \u001b[38;5;28mmin\u001b[39m(\u001b[38;5;28mmax\u001b[39m(\n\u001b[1;32m     96\u001b[0m         scheduled[\u001b[38;5;241m0\u001b[39m]\u001b[38;5;241m.\u001b[39m_when \u001b[38;5;241m-\u001b[39m \u001b[38;5;28mself\u001b[39m\u001b[38;5;241m.\u001b[39mtime(), \u001b[38;5;241m0\u001b[39m), \u001b[38;5;241m86400\u001b[39m) \u001b[38;5;28;01mif\u001b[39;00m scheduled\n\u001b[1;32m     97\u001b[0m     \u001b[38;5;28;01melse\u001b[39;00m \u001b[38;5;28;01mNone\u001b[39;00m)\n\u001b[0;32m---> 98\u001b[0m event_list \u001b[38;5;241m=\u001b[39m \u001b[38;5;28;43mself\u001b[39;49m\u001b[38;5;241;43m.\u001b[39;49m\u001b[43m_selector\u001b[49m\u001b[38;5;241;43m.\u001b[39;49m\u001b[43mselect\u001b[49m\u001b[43m(\u001b[49m\u001b[43mtimeout\u001b[49m\u001b[43m)\u001b[49m\n\u001b[1;32m     99\u001b[0m \u001b[38;5;28mself\u001b[39m\u001b[38;5;241m.\u001b[39m_process_events(event_list)\n\u001b[1;32m    101\u001b[0m end_time \u001b[38;5;241m=\u001b[39m \u001b[38;5;28mself\u001b[39m\u001b[38;5;241m.\u001b[39mtime() \u001b[38;5;241m+\u001b[39m \u001b[38;5;28mself\u001b[39m\u001b[38;5;241m.\u001b[39m_clock_resolution\n",
      "File \u001b[0;32m/Library/Frameworks/Python.framework/Versions/3.10/lib/python3.10/selectors.py:562\u001b[0m, in \u001b[0;36mKqueueSelector.select\u001b[0;34m(self, timeout)\u001b[0m\n\u001b[1;32m    560\u001b[0m ready \u001b[38;5;241m=\u001b[39m []\n\u001b[1;32m    561\u001b[0m \u001b[38;5;28;01mtry\u001b[39;00m:\n\u001b[0;32m--> 562\u001b[0m     kev_list \u001b[38;5;241m=\u001b[39m \u001b[38;5;28;43mself\u001b[39;49m\u001b[38;5;241;43m.\u001b[39;49m\u001b[43m_selector\u001b[49m\u001b[38;5;241;43m.\u001b[39;49m\u001b[43mcontrol\u001b[49m\u001b[43m(\u001b[49m\u001b[38;5;28;43;01mNone\u001b[39;49;00m\u001b[43m,\u001b[49m\u001b[43m \u001b[49m\u001b[43mmax_ev\u001b[49m\u001b[43m,\u001b[49m\u001b[43m \u001b[49m\u001b[43mtimeout\u001b[49m\u001b[43m)\u001b[49m\n\u001b[1;32m    563\u001b[0m \u001b[38;5;28;01mexcept\u001b[39;00m \u001b[38;5;167;01mInterruptedError\u001b[39;00m:\n\u001b[1;32m    564\u001b[0m     \u001b[38;5;28;01mreturn\u001b[39;00m ready\n",
      "\u001b[0;31mKeyboardInterrupt\u001b[0m: "
     ]
    }
   ],
   "source": [
    "import websockets\n",
    "import asyncio\n",
    "\n",
    "import cv2, base64\n",
    "\n",
    "port = 1000\n",
    "print(\"Started server on port : \", port)\n",
    "\n",
    "async def transmit(websocket, path):\n",
    "    print(\"Client Connected !\")\n",
    "    try :\n",
    "        cap = cv2.VideoCapture(0)\n",
    "\n",
    "        while cap.isOpened():\n",
    "            _, frame = cap.read()\n",
    "            \n",
    "            encoded = cv2.imencode('.jpg', frame)[1]\n",
    "\n",
    "            data = str(base64.b64encode(encoded))\n",
    "            data = data[2:len(data)-1]\n",
    "            \n",
    "            await websocket.send(data)\n",
    "            \n",
    "            # cv2.imshow(\"Transimission\", frame)\n",
    "            \n",
    "            # if cv2.waitKey(1) & 0xFF == ord('q'):\n",
    "            #     break\n",
    "        cap.release()\n",
    "    except websockets.connection.ConnectionClosed as e:\n",
    "        print(\"Client Disconnected !\")\n",
    "        cap.release()\n",
    "    except:\n",
    "        print(\"Someting went Wrong !\")\n",
    "\n",
    "start_server = websockets.serve(transmit, port=port)\n",
    "\n",
    "asyncio.get_event_loop().run_until_complete(start_server)\n",
    "asyncio.get_event_loop().run_forever()\n",
    "\n",
    "cap.release()"
   ]
  },
  {
   "cell_type": "code",
   "execution_count": null,
   "id": "9856c99c",
   "metadata": {},
   "outputs": [],
   "source": []
  }
 ],
 "metadata": {
  "kernelspec": {
   "display_name": "Python 3 (ipykernel)",
   "language": "python",
   "name": "python3"
  },
  "language_info": {
   "codemirror_mode": {
    "name": "ipython",
    "version": 3
   },
   "file_extension": ".py",
   "mimetype": "text/x-python",
   "name": "python",
   "nbconvert_exporter": "python",
   "pygments_lexer": "ipython3",
   "version": "3.10.2"
  }
 },
 "nbformat": 4,
 "nbformat_minor": 5
}
